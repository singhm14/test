{
  "cells": [
    {
      "cell_type": "markdown",
      "source": [
        "# pyOMOPql Library Help\r\n",
        "## Python methods\r\n",
        "\r\n",
        "### HANA Class methods\r\n",
        "\r\n",
        "This is the main class a researcher will interact and will use some these methods to query HANA.\r\n",
        "\r\n",
        "1. `getResult(self, query: str, parameters: Union[list, dict, NoneType], cursorCallback: Callable[[pyhdbcli.Cursor], Any]) -> Union[Any, NoneType]`\r\n",
        "\r\n",
        "This method handles everything from opening and closing connection and cursor. Which the researcher doesnt have to worry about except for passing the SQL query, the necessary\r\n",
        "parameters and an existing/custom cursor callback to do post processing with the data.\r\n",
        "\r\n",
        "2. `getConnection(self)`\r\n",
        "\r\n",
        "For greater flexibility a Hana connection can be fetched and researcher can choose to\r\n",
        "whatever is required with the connection.\r\n",
        "\r\n",
        "3. `closeConnection(self)`\r\n",
        "\r\n",
        "If the 2nd method (getConnection) is used, this becomes applicable of closing the connection when required.\r\n",
        "\r\n",
        "### HANA Cursor Class methods\r\n",
        "\r\n",
        "This is a HANA Cursor class that contains different implementation methods of what a curson can do and can be easily used by the researcher.\r\n",
        "\r\n",
        "1. `fetchAllCallback(cursor)`\r\n",
        "\r\n",
        "This cursor is used to fetch all the records from the cursor in one shot\r\n",
        "\r\n",
        "2. `iterateCursorPrintCallback(cursor)`\r\n",
        "\r\n",
        "This method will iterate over each record and print them\r\n",
        "\r\n"
      ],
      "metadata": {
        "nteract": {
          "transient": {
            "deleting": false
          }
        }
      }
    }
  ],
  "metadata": {
    "kernelspec": {
      "name": "python38-azureml",
      "language": "python",
      "display_name": "Python 3.8 - AzureML"
    },
    "language_info": {
      "name": "python",
      "version": "3.8.5",
      "mimetype": "text/x-python",
      "codemirror_mode": {
        "name": "ipython",
        "version": 3
      },
      "pygments_lexer": "ipython3",
      "nbconvert_exporter": "python",
      "file_extension": ".py"
    },
    "kernel_info": {
      "name": "python38-azureml"
    },
    "nteract": {
      "version": "nteract-front-end@1.0.0"
    }
  },
  "nbformat": 4,
  "nbformat_minor": 2
}