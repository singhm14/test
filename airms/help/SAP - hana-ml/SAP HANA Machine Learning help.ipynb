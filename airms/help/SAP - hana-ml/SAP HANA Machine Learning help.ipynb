{
  "cells": [
    {
      "cell_type": "markdown",
      "source": [
        "# SAP hana-ml Help Links and Tutorials\r\n",
        "### -----------------------------------------------------------------------------------------------------------------\r\n",
        "### Python Machine Learning Client for SAP HANA:\r\n",
        "https://help.sap.com/doc/1d0ebfe5e8dd44d09606814d83308d4b/2.0.06/en-US/hana_ml.html\r\n",
        "### HANA Dataframe Tutorial:\r\n",
        "https://github.com/SAP-samples/hana-ml-samples/blob/main/Python-API/pal/notebooks/tutorials/hana-ml_Tutorial_DataFrame.ipynb\r\n"
      ],
      "metadata": {
        "nteract": {
          "transient": {
            "deleting": false
          }
        }
      }
    }
  ],
  "metadata": {
    "kernelspec": {
      "name": "python38-azureml",
      "language": "python",
      "display_name": "Python 3.8 - AzureML"
    },
    "language_info": {
      "name": "python",
      "version": "3.8.5",
      "mimetype": "text/x-python",
      "codemirror_mode": {
        "name": "ipython",
        "version": 3
      },
      "pygments_lexer": "ipython3",
      "nbconvert_exporter": "python",
      "file_extension": ".py"
    },
    "nteract": {
      "version": "nteract-front-end@1.0.0"
    },
    "kernel_info": {
      "name": "python38-azureml"
    }
  },
  "nbformat": 4,
  "nbformat_minor": 2
}