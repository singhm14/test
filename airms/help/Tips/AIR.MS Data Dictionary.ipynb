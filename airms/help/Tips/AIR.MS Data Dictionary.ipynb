{
  "cells": [
    {
      "cell_type": "markdown",
      "source": [
        "# AIR.MS Data Dictionary\r\n",
        "Run the cells below to obtain information about the AIR.MS data dictionary"
      ],
      "metadata": {
        "nteract": {
          "transient": {
            "deleting": false
          }
        }
      }
    },
    {
      "cell_type": "markdown",
      "source": [
        "# Setup your environment to use this notebook\r\n",
        "- Replace 'user' with your MSSM user ID"
      ],
      "metadata": {
        "nteract": {
          "transient": {
            "deleting": false
          }
        }
      }
    },
    {
      "cell_type": "code",
      "source": [
        "# Import libraries\r\n",
        "import getpass\r\n",
        "from hdbcli import dbapi\r\n",
        "import pandas as pd\r\n",
        "\r\n",
        "# Establish a connection to AIR.MS\r\n",
        "user = 'dibelh01'\r\n",
        "conn = dbapi.connect(\r\n",
        "    address = 'hana-pa1.mssm.edu',  # HANA host name\r\n",
        "    port = '30047',                 # SQL port of the HANA system\r\n",
        "    user = user,              # Active Directory user ID\r\n",
        "    password = getpass.getpass(\"Enter your password:\"),          # Active Directory password\r\n",
        "    encrypt=True,                   # Only encrypted communications are supported\r\n",
        ")"
      ],
      "outputs": [],
      "execution_count": null,
      "metadata": {
        "jupyter": {
          "source_hidden": false,
          "outputs_hidden": false
        },
        "nteract": {
          "transient": {
            "deleting": false
          }
        },
        "gather": {
          "logged": 1661886675431
        }
      }
    },
    {
      "cell_type": "markdown",
      "source": [
        "## Table size details by Data Modality\r\n",
        "### MSDW OMOP PHI"
      ],
      "metadata": {
        "nteract": {
          "transient": {
            "deleting": false
          }
        }
      }
    },
    {
      "cell_type": "code",
      "source": [
        "# Run query and return data\r\n",
        "\r\n",
        "# Run query and return data in pandas dataframe\r\n",
        "pd.read_sql(f'SELECT \"SCHEMA_NAME\", \"TABLE_NAME\",\"RECORD_COUNT\", to_decimal(TABLE_SIZE/1024/1024/1024,23,2) AS \"SIZE(GB)\" FROM \"SYS\".\"M_TABLES\" WHERE SCHEMA_NAME = \\'CDMPHI\\' AND \"RECORD_COUNT\" > 1 ORDER BY RECORD_COUNT DESC',conn)"
      ],
      "outputs": [],
      "execution_count": null,
      "metadata": {
        "jupyter": {
          "source_hidden": false,
          "outputs_hidden": false
        },
        "nteract": {
          "transient": {
            "deleting": false
          }
        },
        "gather": {
          "logged": 1661886683020
        }
      }
    },
    {
      "cell_type": "markdown",
      "source": [
        "### MSDW OMOP DE-ID"
      ],
      "metadata": {
        "nteract": {
          "transient": {
            "deleting": false
          }
        }
      }
    },
    {
      "cell_type": "code",
      "source": [
        "# Run query and return data\r\n",
        "\r\n",
        "# Run query and return data in pandas dataframe\r\n",
        "pd.read_sql(f'SELECT \"SCHEMA_NAME\", \"TABLE_NAME\",\"RECORD_COUNT\", to_decimal(TABLE_SIZE/1024/1024/1024,23,2) AS \"SIZE(GB)\" FROM \"SYS\".\"M_TABLES\" WHERE SCHEMA_NAME = \\'CDMDEID\\' AND \"RECORD_COUNT\" > 1 ORDER BY RECORD_COUNT DESC',conn)"
      ],
      "outputs": [],
      "execution_count": null,
      "metadata": {
        "jupyter": {
          "source_hidden": false,
          "outputs_hidden": false
        },
        "nteract": {
          "transient": {
            "deleting": false
          }
        },
        "gather": {
          "logged": 1661886688179
        }
      }
    },
    {
      "cell_type": "markdown",
      "source": [
        "### Pathology Metadata"
      ],
      "metadata": {
        "nteract": {
          "transient": {
            "deleting": false
          }
        }
      }
    },
    {
      "cell_type": "code",
      "source": [
        "# Run query and return data\r\n",
        "\r\n",
        "# Run query and return data in pandas dataframe\r\n",
        "pd.read_sql(f'SELECT \"SCHEMA_NAME\", \"TABLE_NAME\",\"RECORD_COUNT\", to_decimal(TABLE_SIZE/1024/1024/1024,23,2) AS \"SIZE(GB)\" FROM \"SYS\".\"M_TABLES\" WHERE SCHEMA_NAME = \\'CDMPATHOLOGY\\' AND \"RECORD_COUNT\" > 1 ORDER BY RECORD_COUNT DESC',conn)"
      ],
      "outputs": [],
      "execution_count": null,
      "metadata": {
        "jupyter": {
          "source_hidden": false,
          "outputs_hidden": false
        },
        "nteract": {
          "transient": {
            "deleting": false
          }
        },
        "gather": {
          "logged": 1661886698016
        }
      }
    }
  ],
  "metadata": {
    "kernelspec": {
      "name": "azureml_py38_pytorch",
      "language": "python",
      "display_name": "Python 3.8 - PyTorch"
    },
    "language_info": {
      "name": "python",
      "version": "3.8.1",
      "mimetype": "text/x-python",
      "codemirror_mode": {
        "name": "ipython",
        "version": 3
      },
      "pygments_lexer": "ipython3",
      "nbconvert_exporter": "python",
      "file_extension": ".py"
    },
    "kernel_info": {
      "name": "azureml_py38_pytorch"
    },
    "nteract": {
      "version": "nteract-front-end@1.0.0"
    },
    "microsoft": {
      "host": {
        "AzureML": {
          "notebookHasBeenCompleted": true
        }
      }
    }
  },
  "nbformat": 4,
  "nbformat_minor": 2
}