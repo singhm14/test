{
  "cells": [
    {
      "cell_type": "markdown",
      "source": [
        "# SAP HANA SQL Help Links and Tutorials\r\n",
        "### -----------------------------------------------------------------------------------------------------------------\r\n",
        "### SAP HANA Client Interface Programming Reference for Python:\r\n",
        "https://help.sap.com/docs/HANA_SERVICE_CF/1efad1691c1f496b8b580064a6536c2d/f3b8fabf34324302b123297cdbe710f0.html\r\n",
        "### SAP HANA SQL Reference Guide for SAP HANA Platform:\r\n",
        "https://help.sap.com/docs/SAP_HANA_PLATFORM/4fe29514fd584807ac9f2a04f6754767/20ff532c751910148657c32fe3431a9f.html?version=2.0.05\r\n",
        "### SAP HANA Full-Text Search with SQL:\r\n",
        "https://help.sap.com/docs/SAP_HANA_PLATFORM/691cb949c1034198800afde3e5be6570/cd07da82bb571014b185c8e3e3974767.html?version=2.0.05"
      ],
      "metadata": {
        "nteract": {
          "transient": {
            "deleting": false
          }
        }
      }
    }
  ],
  "metadata": {
    "kernelspec": {
      "name": "python38-azureml",
      "language": "python",
      "display_name": "Python 3.8 - AzureML"
    },
    "language_info": {
      "name": "python",
      "version": "3.8.5",
      "mimetype": "text/x-python",
      "codemirror_mode": {
        "name": "ipython",
        "version": 3
      },
      "pygments_lexer": "ipython3",
      "nbconvert_exporter": "python",
      "file_extension": ".py"
    },
    "nteract": {
      "version": "nteract-front-end@1.0.0"
    },
    "kernel_info": {
      "name": "python38-azureml"
    }
  },
  "nbformat": 4,
  "nbformat_minor": 2
}