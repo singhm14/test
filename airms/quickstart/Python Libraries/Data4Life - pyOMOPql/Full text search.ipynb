{
  "cells": [
    {
      "cell_type": "markdown",
      "metadata": {
        "nteract": {
          "transient": {
            "deleting": false
          }
        }
      },
      "source": [
        "# The examples below demonstrate how you can interact with unstructured data in AIR.MS\n",
        "- Note: The examples below use the Data4Life pyOMOPql library"
      ]
    },
    {
      "cell_type": "markdown",
      "metadata": {
        "nteract": {
          "transient": {
            "deleting": false
          }
        }
      },
      "source": [
        "### Import the libraries and establish a connection to AIR.MS"
      ]
    },
    {
      "cell_type": "code",
      "execution_count": null,
      "metadata": {
        "gather": {
          "logged": 1661884707832
        }
      },
      "outputs": [],
      "source": [
        "# Set environment variables\n",
        "%env PYOMOPQL_HOST=hana-pa1.mssm.edu\n",
        "%env PYOMOPQL_PORT=30047\n",
        "%env PYOMOPQL_USER=singhm14\n",
        "%env PYOMOPQL_DATABASE=AIRMS\n",
        "%env PYOMOPQL_CURRENT_SCHEMA=CDMPHI\n",
        "%env PYOMOPQL_SSL_HOSTNAME_IN_CERT=hana-pa1.mssm.edu\n",
        "%env PYOMOPQL_SSL_TRUSTSTORE=None\n",
        "%env PYOMOPQL_CONNECT_TIMEOUT=0\n",
        "%env PYOMOPQL_ENCRYPT=TRUE\n",
        "%env PYOMOPQL_SSL_VALIDATE_CERTIFICATE=TRUE\n",
        "\n",
        "# Import libraries\n",
        "import os\n",
        "from pyomopql import Hana\n",
        "from pyomopql import HanaCursor\n",
        "import logging\n",
        "\n",
        "# Set logging level\n",
        "logging.basicConfig()\n",
        "logging.getLogger().setLevel(logging.ERROR)"
      ]
    },
    {
      "cell_type": "markdown",
      "metadata": {
        "nteract": {
          "transient": {
            "deleting": false
          }
        }
      },
      "source": [
        "### Example 1: Select the note text based on a specific Note ID"
      ]
    },
    {
      "cell_type": "code",
      "execution_count": null,
      "metadata": {
        "gather": {
          "logged": 1661884715824
        },
        "jupyter": {
          "outputs_hidden": false,
          "source_hidden": false
        },
        "nteract": {
          "transient": {
            "deleting": false
          }
        }
      },
      "outputs": [],
      "source": [
        "# Obtain unstructured data from a specific note ID\n",
        "hana = Hana()\n",
        "result1 = hana.getResult(\"SELECT NOTE_TEXT FROM CDMPHI.NOTE WHERE NOTE_ID=?\", [66929279], HanaCursor.fetchAllCallback)\n",
        "print(result1)"
      ]
    },
    {
      "cell_type": "markdown",
      "metadata": {
        "nteract": {
          "transient": {
            "deleting": false
          }
        }
      },
      "source": [
        "### Example 2: Obtain a count for the number of notes containing a FUZZY text search string"
      ]
    },
    {
      "cell_type": "code",
      "execution_count": null,
      "metadata": {
        "gather": {
          "logged": 1661877360346
        },
        "jupyter": {
          "outputs_hidden": false,
          "source_hidden": false
        },
        "nteract": {
          "transient": {
            "deleting": false
          }
        }
      },
      "outputs": [],
      "source": [
        "# Add search string to SQL statement (replace 'ulcerative colitis' with any term)\n",
        "\n",
        "# Get connection and cursor\n",
        "conn = hana.getConnection()\n",
        "cursor = conn.cursor()\n",
        "\n",
        "# Execute cursor and fetch data\n",
        "cursor.execute('SELECT COUNT(*) FROM CDMPHI.NOTE WHERE CONTAINS ((NOTE_TEXT), \\'ulcerative colitis\\', FUZZY (0.8))', [])\n",
        "data = cursor.fetchall()\n",
        "print(data)\n",
        "\n",
        "# Close cursor and connection\n",
        "cursor.close()\n",
        "conn.close()"
      ]
    },
    {
      "cell_type": "markdown",
      "metadata": {
        "nteract": {
          "transient": {
            "deleting": false
          }
        }
      },
      "source": [
        "### Example 3: Obtain a count for the number of notes containing an EXACT text search string"
      ]
    },
    {
      "cell_type": "code",
      "execution_count": null,
      "metadata": {
        "gather": {
          "logged": 1661884722832
        },
        "jupyter": {
          "outputs_hidden": false,
          "source_hidden": false
        },
        "nteract": {
          "transient": {
            "deleting": false
          }
        }
      },
      "outputs": [],
      "source": [
        "# Add search string to SQL statement (replace 'ulcerative colitis' with any term)\n",
        "\n",
        "# Get connection and cursor\n",
        "conn = hana.getConnection()\n",
        "cursor = conn.cursor()\n",
        "\n",
        "# Execute cursor and fetch data\n",
        "cursor.execute('SELECT COUNT(*) FROM CDMPHI.NOTE WHERE CONTAINS ((NOTE_TEXT), \\'ulcerative colitis\\', EXACT)', [])\n",
        "data = cursor.fetchall()\n",
        "print(data)\n",
        "\n",
        "# Close cursor and connection\n",
        "cursor.close()\n",
        "conn.close()"
      ]
    },
    {
      "cell_type": "markdown",
      "metadata": {
        "nteract": {
          "transient": {
            "deleting": false
          }
        }
      },
      "source": [
        "### Example 4: Obtain list of note IDs for notes containing a FUZZY text search string"
      ]
    },
    {
      "cell_type": "code",
      "execution_count": null,
      "metadata": {
        "gather": {
          "logged": 1661884728763
        },
        "jupyter": {
          "outputs_hidden": false,
          "source_hidden": false
        },
        "nteract": {
          "transient": {
            "deleting": false
          }
        }
      },
      "outputs": [],
      "source": [
        "# Display note ids for notes containing a search string\n",
        "# Get connection and cursor\n",
        "conn = hana.getConnection()\n",
        "cursor = conn.cursor()\n",
        "\n",
        "# Execute cursor and fetch data\n",
        "cursor.execute('SELECT NOTE_ID FROM CDMPHI.NOTE WHERE CONTAINS ((NOTE_TEXT), \\'ulcerative colitis\\', FUZZY (0.8))', [])\n",
        "data = cursor.fetchall()\n",
        "print(data)\n",
        "\n",
        "# Close cursor and connection\n",
        "cursor.close()\n",
        "conn.close()"
      ]
    },
    {
      "cell_type": "markdown",
      "metadata": {
        "nteract": {
          "transient": {
            "deleting": false
          }
        }
      },
      "source": [
        "### Example 5: Obtain the note text for top 10 notes containing a FUZZY text search string"
      ]
    },
    {
      "cell_type": "code",
      "execution_count": null,
      "metadata": {
        "gather": {
          "logged": 1661884733854
        },
        "jupyter": {
          "outputs_hidden": false,
          "source_hidden": false
        },
        "nteract": {
          "transient": {
            "deleting": false
          }
        }
      },
      "outputs": [],
      "source": [
        "# Display note text for top 10 notes containing a search string\n",
        "# Get connection and cursor\n",
        "conn = hana.getConnection()\n",
        "cursor = conn.cursor()\n",
        "\n",
        "# Execute cursor and fetch data\n",
        "cursor.execute('SELECT TOP 10 NOTE_TEXT FROM CDMPHI.NOTE WHERE CONTAINS ((NOTE_TEXT), \\'ulcerative colitis\\', FUZZY (0.8))', [])\n",
        "data = cursor.fetchall()\n",
        "print(data)\n",
        "\n",
        "# Close cursor and connection\n",
        "cursor.close()\n",
        "conn.close()"
      ]
    }
  ],
  "metadata": {
    "kernel_info": {
      "name": "azureml_py38_pytorch"
    },
    "kernelspec": {
      "display_name": "Python 3",
      "language": "python",
      "name": "python3"
    },
    "language_info": {
      "codemirror_mode": {
        "name": "ipython",
        "version": 3
      },
      "file_extension": ".py",
      "mimetype": "text/x-python",
      "name": "python",
      "nbconvert_exporter": "python",
      "pygments_lexer": "ipython3",
      "version": "3.8.9 (default, Apr 13 2022, 08:48:06) \n[Clang 13.1.6 (clang-1316.0.21.2.5)]"
    },
    "microsoft": {
      "host": {
        "AzureML": {
          "notebookHasBeenCompleted": true
        }
      }
    },
    "nteract": {
      "version": "nteract-front-end@1.0.0"
    },
    "vscode": {
      "interpreter": {
        "hash": "31f2aee4e71d21fbe5cf8b01ff0e069b9275f58929596ceb00d14d90e3e16cd6"
      }
    }
  },
  "nbformat": 4,
  "nbformat_minor": 2
}
