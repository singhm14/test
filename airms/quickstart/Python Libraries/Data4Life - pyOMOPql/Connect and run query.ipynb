{
  "cells": [
    {
      "cell_type": "markdown",
      "metadata": {
        "nteract": {
          "transient": {
            "deleting": false
          }
        }
      },
      "source": [
        "# The example below shows how you can establish a connection to AIR.MS using the Data4Life developed python HANA query library (pyOMOPql). The connection can be used to run SQL statements directly in HANA"
      ]
    },
    {
      "cell_type": "markdown",
      "metadata": {
        "nteract": {
          "transient": {
            "deleting": false
          }
        }
      },
      "source": [
        "### Setup your environment and AIR.MS connectiviy details"
      ]
    },
    {
      "cell_type": "code",
      "execution_count": null,
      "metadata": {
        "gather": {
          "logged": 1661884755824
        }
      },
      "outputs": [],
      "source": [
        "# Set environment variables\n",
        "%env PYOMOPQL_HOST=hana-pa1.mssm.edu\n",
        "%env PYOMOPQL_PORT=30047\n",
        "%env PYOMOPQL_USER=singhm14\n",
        "%env PYOMOPQL_DATABASE=AIRMS\n",
        "%env PYOMOPQL_CURRENT_SCHEMA=CDMPHI\n",
        "%env PYOMOPQL_SSL_HOSTNAME_IN_CERT=hana-pa1.mssm.edu\n",
        "%env PYOMOPQL_SSL_TRUSTSTORE=None\n",
        "%env PYOMOPQL_CONNECT_TIMEOUT=0\n",
        "%env PYOMOPQL_ENCRYPT=TRUE\n",
        "%env PYOMOPQL_SSL_VALIDATE_CERTIFICATE=TRUE\n",
        "\n",
        "# Import libraries\n",
        "import os\n",
        "from pyomopql import Hana\n",
        "from pyomopql import HanaCursor\n",
        "import logging\n",
        "\n",
        "# Set logging level\n",
        "logging.basicConfig()\n",
        "logging.getLogger().setLevel(logging.ERROR)"
      ]
    },
    {
      "cell_type": "markdown",
      "metadata": {
        "nteract": {
          "transient": {
            "deleting": false
          }
        }
      },
      "source": [
        "### Example 1: Use the Hana() object to open a connection to HANA and submit a query. The default behaviour of Hana() is to check if an existing connection is open, use it if true or create a new one if false. The connection is then automatically once the result is returned. This is done in such a way that the researcher doesnt have to worry about opening and closing connections"
      ]
    },
    {
      "cell_type": "code",
      "execution_count": null,
      "metadata": {
        "gather": {
          "logged": 1661884771835
        }
      },
      "outputs": [],
      "source": [
        "hana = Hana()\n",
        "result1 = hana.getResult(\"select * from CONCEPT where CONCEPT_ID=?\", [35406484], HanaCursor.fetchAllCallback)\n",
        "print(result1)"
      ]
    },
    {
      "cell_type": "markdown",
      "metadata": {
        "nteract": {
          "transient": {
            "deleting": false
          }
        }
      },
      "source": [
        "### Example 2: Again using the Hana() object to establish a connection to HANA, this time we will override a value we previsously defined when setting up our environment. You are again prompted for a password since the connection from the previous cell was closed. Additional parameters can be overwritten as documented in the following link: https://help.sap.com/docs/SAP_HANA_PLATFORM/0eec0d68141541d1b07893a39944924e/ee592e89dcce4480a99571a4ae7a702f.html"
      ]
    },
    {
      "cell_type": "code",
      "execution_count": null,
      "metadata": {
        "gather": {
          "logged": 1661884778830
        }
      },
      "outputs": [],
      "source": [
        "hanaOverrideArgs = Hana(currentSchema=\"CDMPHI\", locale=\"en-US\")\n",
        "result2 = hanaOverrideArgs.getResult(\"select * from CONCEPT where CONCEPT_ID=?\",[35406484], HanaCursor.fetchAllCallback)\n",
        "print(result2)\n"
      ]
    },
    {
      "cell_type": "markdown",
      "metadata": {
        "nteract": {
          "transient": {
            "deleting": false
          }
        }
      },
      "source": [
        "### Example 3: This example uses a custom Callback and you are not prompted for a password. Since the password was stored in an instance variable it can be retrieved. This example uses the fetchone() cursor, so only 1 result will be returned"
      ]
    },
    {
      "cell_type": "code",
      "execution_count": null,
      "metadata": {
        "gather": {
          "logged": 1661884791935
        }
      },
      "outputs": [],
      "source": [
        "def fetchOneCallback(cursor):\n",
        "     return cursor.fetchone()\n",
        "\n",
        "result3 = hana.getResult(\"select top 50 * from CONCEPT\",[], fetchOneCallback)\n",
        "print(result3)"
      ]
    },
    {
      "cell_type": "markdown",
      "metadata": {
        "nteract": {
          "transient": {
            "deleting": false
          }
        }
      },
      "source": [
        "### Example 4: This example opens the connection to HANA using the hana.getConnection() object, executes the fetchall() cursor and returns all the data. The connection is manually closed at the end"
      ]
    },
    {
      "cell_type": "code",
      "execution_count": null,
      "metadata": {
        "collapsed": false,
        "gather": {
          "logged": 1661884817179
        },
        "jupyter": {
          "outputs_hidden": false,
          "source_hidden": false
        },
        "nteract": {
          "transient": {
            "deleting": false
          }
        }
      },
      "outputs": [],
      "source": [
        "# Get connection and cursor\n",
        "conn = hana.getConnection()\n",
        "cursor = conn.cursor()\n",
        "\n",
        "# Execute cursor and fetch data\n",
        "cursor.execute('select top 50 * from CONCEPT', [])\n",
        "data = cursor.fetchall()\n",
        "print(data)\n",
        "\n",
        "# Close cursor and connection\n",
        "cursor.close()\n",
        "conn.close()"
      ]
    },
    {
      "cell_type": "markdown",
      "metadata": {
        "nteract": {
          "transient": {
            "deleting": false
          }
        }
      },
      "source": [
        "### Example 5: Convert the results to a pandas dataframe with column headers"
      ]
    },
    {
      "cell_type": "code",
      "execution_count": null,
      "metadata": {
        "gather": {
          "logged": 1661884823860
        },
        "jupyter": {
          "outputs_hidden": false,
          "source_hidden": false
        },
        "nteract": {
          "transient": {
            "deleting": false
          }
        }
      },
      "outputs": [],
      "source": [
        "df = hana.getResult(\"select top 5 * from CONCEPT\", [],\n",
        "\t\t\t\t\t\t\tHanaCursor.fetchDataframeCallback\n",
        "\t\t\t\t\t\t\t)\n",
        "df.head(3)"
      ]
    },
    {
      "cell_type": "markdown",
      "metadata": {
        "nteract": {
          "transient": {
            "deleting": false
          }
        }
      },
      "source": [
        "### List methods that are available in Hana() class"
      ]
    },
    {
      "cell_type": "code",
      "execution_count": null,
      "metadata": {
        "collapsed": false,
        "gather": {
          "logged": 1661884828421
        },
        "jupyter": {
          "outputs_hidden": false,
          "source_hidden": false
        },
        "nteract": {
          "transient": {
            "deleting": false
          }
        }
      },
      "outputs": [],
      "source": [
        "from pyomopql import Hana\n",
        "help(Hana)"
      ]
    },
    {
      "cell_type": "markdown",
      "metadata": {
        "nteract": {
          "transient": {
            "deleting": false
          }
        }
      },
      "source": [
        "### List methods that are available in HanaCursor() class"
      ]
    },
    {
      "cell_type": "code",
      "execution_count": null,
      "metadata": {
        "collapsed": false,
        "gather": {
          "logged": 1661884833332
        },
        "jupyter": {
          "outputs_hidden": false,
          "source_hidden": false
        },
        "nteract": {
          "transient": {
            "deleting": false
          }
        }
      },
      "outputs": [],
      "source": [
        "from pyomopql import HanaCursor\n",
        "help(HanaCursor)"
      ]
    }
  ],
  "metadata": {
    "kernel_info": {
      "name": "azureml_py38_pytorch"
    },
    "kernelspec": {
      "display_name": "Python 3",
      "language": "python",
      "name": "python3"
    },
    "language_info": {
      "codemirror_mode": {
        "name": "ipython",
        "version": 3
      },
      "file_extension": ".py",
      "mimetype": "text/x-python",
      "name": "python",
      "nbconvert_exporter": "python",
      "pygments_lexer": "ipython3",
      "version": "3.8.9 (default, Apr 13 2022, 08:48:06) \n[Clang 13.1.6 (clang-1316.0.21.2.5)]"
    },
    "microsoft": {
      "host": {
        "AzureML": {
          "notebookHasBeenCompleted": true
        }
      }
    },
    "nteract": {
      "version": "nteract-front-end@1.0.0"
    },
    "vscode": {
      "interpreter": {
        "hash": "31f2aee4e71d21fbe5cf8b01ff0e069b9275f58929596ceb00d14d90e3e16cd6"
      }
    }
  },
  "nbformat": 4,
  "nbformat_minor": 4
}
