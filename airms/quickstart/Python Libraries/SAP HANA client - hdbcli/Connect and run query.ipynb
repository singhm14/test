{
  "cells": [
    {
      "cell_type": "markdown",
      "metadata": {
        "nteract": {
          "transient": {
            "deleting": false
          }
        }
      },
      "source": [
        "# The example below shows how you can establish a connection to AIR.MS using the SAP HANA python client. The connection can be used to run SQL statements directly in HANA"
      ]
    },
    {
      "cell_type": "markdown",
      "metadata": {
        "nteract": {
          "transient": {
            "deleting": false
          }
        }
      },
      "source": [
        "### Import libraries and establish a connection to AIR.MS"
      ]
    },
    {
      "cell_type": "code",
      "execution_count": null,
      "metadata": {
        "gather": {
          "logged": 1661887835145
        }
      },
      "outputs": [],
      "source": [
        "# Import libraries\n",
        "import getpass\n",
        "from hdbcli import dbapi\n",
        "import pandas as pd\n",
        "\n",
        "# Establish a connection to AIR.MS\n",
        "user = 'singhm14'\n",
        "conn = dbapi.connect(\n",
        "    address = 'hana-pa1.mssm.edu',  # HANA host name\n",
        "    port = '30047',                 # SQL port of the HANA system\n",
        "    user = user,              # Active Directory user ID\n",
        "    password = getpass.getpass(\"Enter your password:\"),          # Active Directory password\n",
        "    encrypt=True,                   # Only encrypted communications are supported\n",
        ")"
      ]
    },
    {
      "cell_type": "markdown",
      "metadata": {
        "nteract": {
          "transient": {
            "deleting": false
          }
        }
      },
      "source": [
        "### Run a SQL query and return the data"
      ]
    },
    {
      "cell_type": "code",
      "execution_count": null,
      "metadata": {
        "gather": {
          "logged": 1661887838198
        },
        "jupyter": {
          "outputs_hidden": false,
          "source_hidden": false
        },
        "nteract": {
          "transient": {
            "deleting": false
          }
        }
      },
      "outputs": [],
      "source": [
        "# Run query and return data\n",
        "sql = 'SELECT TOP 100 * FROM CDMPHI.PERSON'\n",
        "cursor = conn.cursor()\n",
        "cursor.execute(sql)\n",
        "for row in cursor:\n",
        "    print(row)"
      ]
    },
    {
      "cell_type": "markdown",
      "metadata": {
        "nteract": {
          "transient": {
            "deleting": false
          }
        }
      },
      "source": [
        "### Run a SQL query and return the results in a Pandas dataframe"
      ]
    },
    {
      "cell_type": "code",
      "execution_count": null,
      "metadata": {
        "gather": {
          "logged": 1661887841288
        },
        "jupyter": {
          "outputs_hidden": false,
          "source_hidden": false
        },
        "nteract": {
          "transient": {
            "deleting": false
          }
        }
      },
      "outputs": [],
      "source": [
        "# Define location of data\n",
        "schema = 'CDMPHI'\n",
        "tablename = 'PERSON'\n",
        "\n",
        "# Run query and return data in pandas dataframe\n",
        "pd.read_sql(f'select top 100 * from {schema}.{tablename}',conn)"
      ]
    }
  ],
  "metadata": {
    "kernel_info": {
      "name": "azureml_py38_pytorch"
    },
    "kernelspec": {
      "display_name": "Python 3",
      "language": "python",
      "name": "python3"
    },
    "language_info": {
      "codemirror_mode": {
        "name": "ipython",
        "version": 3
      },
      "file_extension": ".py",
      "mimetype": "text/x-python",
      "name": "python",
      "nbconvert_exporter": "python",
      "pygments_lexer": "ipython3",
      "version": "3.8.9 (default, Apr 13 2022, 08:48:06) \n[Clang 13.1.6 (clang-1316.0.21.2.5)]"
    },
    "microsoft": {
      "host": {
        "AzureML": {
          "notebookHasBeenCompleted": true
        }
      }
    },
    "nteract": {
      "version": "nteract-front-end@1.0.0"
    },
    "vscode": {
      "interpreter": {
        "hash": "31f2aee4e71d21fbe5cf8b01ff0e069b9275f58929596ceb00d14d90e3e16cd6"
      }
    }
  },
  "nbformat": 4,
  "nbformat_minor": 2
}
