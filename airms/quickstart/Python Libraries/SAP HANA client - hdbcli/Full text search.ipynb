{
  "cells": [
    {
      "cell_type": "markdown",
      "metadata": {
        "nteract": {
          "transient": {
            "deleting": false
          }
        }
      },
      "source": [
        "# The examples below demonstrate how you can interact with unstructured data in AIR.MS\n",
        "- Note: The examples below use the SAP HANA hdbcli library"
      ]
    },
    {
      "cell_type": "markdown",
      "metadata": {
        "nteract": {
          "transient": {
            "deleting": false
          }
        }
      },
      "source": [
        "### Import the libraries and establish a connection to AIR.MS"
      ]
    },
    {
      "cell_type": "code",
      "execution_count": null,
      "metadata": {
        "gather": {
          "logged": 1661888250158
        }
      },
      "outputs": [],
      "source": [
        "# Import libraries\n",
        "import getpass\n",
        "from hdbcli import dbapi\n",
        "\n",
        "# Establish a connection to AIR.MS\n",
        "user = 'singhm14'\n",
        "conn = dbapi.connect(\n",
        "    address = 'hana-pa1.mssm.edu',  # HANA host name\n",
        "    port = '30047',                 # SQL port of the HANA system\n",
        "    user = user,              # Active Directory user ID\n",
        "    password = getpass.getpass(\"Enter your password:\"),          # Active Directory password\n",
        "    encrypt=True,                   # Only encrypted communications are supported\n",
        ")"
      ]
    },
    {
      "cell_type": "markdown",
      "metadata": {
        "nteract": {
          "transient": {
            "deleting": false
          }
        }
      },
      "source": [
        "### Example 1: Select the note text based on a specific Note ID"
      ]
    },
    {
      "cell_type": "code",
      "execution_count": null,
      "metadata": {
        "gather": {
          "logged": 1661888252206
        },
        "jupyter": {
          "outputs_hidden": false,
          "source_hidden": false
        },
        "nteract": {
          "transient": {
            "deleting": false
          }
        }
      },
      "outputs": [],
      "source": [
        "# Obtain unstructured data from a specific note ID\n",
        "sql = 'SELECT NOTE_TEXT FROM CDMPHI.NOTE WHERE NOTE_ID = \\'66929279\\''\n",
        "cursor = conn.cursor()\n",
        "cursor.execute(sql)\n",
        "for row in cursor:\n",
        "    print(row)"
      ]
    },
    {
      "cell_type": "markdown",
      "metadata": {
        "nteract": {
          "transient": {
            "deleting": false
          }
        }
      },
      "source": [
        "### Example 2: Obtain a count for the number of notes containing a FUZZY text search string"
      ]
    },
    {
      "cell_type": "code",
      "execution_count": null,
      "metadata": {
        "gather": {
          "logged": 1661888256256
        },
        "jupyter": {
          "outputs_hidden": false,
          "source_hidden": false
        },
        "nteract": {
          "transient": {
            "deleting": false
          }
        }
      },
      "outputs": [],
      "source": [
        "# Add search string to SQL statement (replace 'ulcerative colitis' with any term)\n",
        "sql = 'SELECT COUNT(*) FROM CDMPHI.NOTE WHERE CONTAINS ((NOTE_TEXT), \\'ulcerative colitis\\', FUZZY (0.8))'\n",
        "cursor = conn.cursor()\n",
        "cursor.execute(sql)\n",
        "for row in cursor:\n",
        "    print(row)"
      ]
    },
    {
      "cell_type": "markdown",
      "metadata": {
        "nteract": {
          "transient": {
            "deleting": false
          }
        }
      },
      "source": [
        "### Example 3: Obtain a count for the number of notes containing an EXACT text search string"
      ]
    },
    {
      "cell_type": "code",
      "execution_count": null,
      "metadata": {
        "gather": {
          "logged": 1661888258631
        },
        "jupyter": {
          "outputs_hidden": false,
          "source_hidden": false
        },
        "nteract": {
          "transient": {
            "deleting": false
          }
        }
      },
      "outputs": [],
      "source": [
        "# Add search string to SQL statement (replace 'ulcerative colitis' with any term)\n",
        "sql = 'SELECT COUNT(*) FROM CDMPHI.NOTE WHERE CONTAINS ((NOTE_TEXT), \\'ulcerative colitis\\', EXACT)'\n",
        "cursor = conn.cursor()\n",
        "cursor.execute(sql)\n",
        "for row in cursor:\n",
        "    print(row)"
      ]
    },
    {
      "cell_type": "markdown",
      "metadata": {
        "nteract": {
          "transient": {
            "deleting": false
          }
        }
      },
      "source": [
        "### Example 4: Obtain list of note IDs for notes containing a FUZZY text search string"
      ]
    },
    {
      "cell_type": "code",
      "execution_count": null,
      "metadata": {
        "gather": {
          "logged": 1661888287240
        },
        "jupyter": {
          "outputs_hidden": false,
          "source_hidden": false
        },
        "nteract": {
          "transient": {
            "deleting": false
          }
        }
      },
      "outputs": [],
      "source": [
        "# Display note ids for notes containing a search string\n",
        "sql = 'SELECT NOTE_ID FROM CDMPHI.NOTE WHERE CONTAINS ((NOTE_TEXT), \\'ulcerative colitis\\', FUZZY (0.8))'\n",
        "cursor = conn.cursor()\n",
        "cursor.execute(sql)\n",
        "for row in cursor:\n",
        "    print(row)"
      ]
    },
    {
      "cell_type": "markdown",
      "metadata": {
        "nteract": {
          "transient": {
            "deleting": false
          }
        }
      },
      "source": [
        "### Example 5: Obtain the note text for top 10 notes containing a FUZZY text search string"
      ]
    },
    {
      "cell_type": "code",
      "execution_count": null,
      "metadata": {
        "gather": {
          "logged": 1661888287318
        },
        "jupyter": {
          "outputs_hidden": false,
          "source_hidden": false
        },
        "nteract": {
          "transient": {
            "deleting": false
          }
        }
      },
      "outputs": [],
      "source": [
        "# Display note text for top 10 notes containing a search string\n",
        "sql = 'SELECT TOP 10 NOTE_TEXT FROM CDMPHI.NOTE WHERE CONTAINS ((NOTE_TEXT), \\'ulcerative colitis\\', FUZZY (0.8))'\n",
        "cursor = conn.cursor()\n",
        "cursor.execute(sql)\n",
        "for row in cursor:\n",
        "    print(row)"
      ]
    }
  ],
  "metadata": {
    "kernel_info": {
      "name": "azureml_py38_pytorch"
    },
    "kernelspec": {
      "display_name": "Python 3",
      "language": "python",
      "name": "python3"
    },
    "language_info": {
      "codemirror_mode": {
        "name": "ipython",
        "version": 3
      },
      "file_extension": ".py",
      "mimetype": "text/x-python",
      "name": "python",
      "nbconvert_exporter": "python",
      "pygments_lexer": "ipython3",
      "version": "3.8.9 (default, Apr 13 2022, 08:48:06) \n[Clang 13.1.6 (clang-1316.0.21.2.5)]"
    },
    "microsoft": {
      "host": {
        "AzureML": {
          "notebookHasBeenCompleted": true
        }
      }
    },
    "nteract": {
      "version": "nteract-front-end@1.0.0"
    },
    "vscode": {
      "interpreter": {
        "hash": "31f2aee4e71d21fbe5cf8b01ff0e069b9275f58929596ceb00d14d90e3e16cd6"
      }
    }
  },
  "nbformat": 4,
  "nbformat_minor": 2
}
