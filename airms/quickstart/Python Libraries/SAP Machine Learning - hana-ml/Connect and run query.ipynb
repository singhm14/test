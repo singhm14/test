{
  "cells": [
    {
      "cell_type": "markdown",
      "metadata": {
        "nteract": {
          "transient": {
            "deleting": false
          }
        }
      },
      "source": [
        "# The example below uses the hana-ml library to demonstrate how to create a \"ConnectionContext\" object and then invoke a method table() to create a simple SAP HANA DataFrame"
      ]
    },
    {
      "cell_type": "markdown",
      "metadata": {
        "nteract": {
          "transient": {
            "deleting": false
          }
        }
      },
      "source": [
        "### Import libraries and establish a connection to AIR.MS"
      ]
    },
    {
      "cell_type": "code",
      "execution_count": null,
      "metadata": {
        "gather": {
          "logged": 1661887998146
        },
        "jupyter": {
          "outputs_hidden": false,
          "source_hidden": false
        },
        "nteract": {
          "transient": {
            "deleting": false
          }
        }
      },
      "outputs": [],
      "source": [
        "# Import libraries\n",
        "import sys\n",
        "import getpass\n",
        "from hdbcli import dbapi\n",
        "from hana_ml import dataframe\n",
        "from hana_ml.algorithms.pal import trees\n",
        "from hana_ml.algorithms.pal import metrics\n",
        "\n",
        "# Establish a connection to AIR.MS\n",
        "user = 'singhm14'\n",
        "conn = dataframe.ConnectionContext('hana-pa1.mssm.edu', 30047, user=user,encrypt=True)"
      ]
    },
    {
      "cell_type": "markdown",
      "metadata": {
        "nteract": {
          "transient": {
            "deleting": false
          }
        }
      },
      "source": [
        "### Create the HANA dataframe, apply a filter based on year of birth, and output the data"
      ]
    },
    {
      "cell_type": "code",
      "execution_count": null,
      "metadata": {
        "gather": {
          "logged": 1661888085162
        },
        "jupyter": {
          "outputs_hidden": false,
          "source_hidden": false
        },
        "nteract": {
          "transient": {
            "deleting": false
          }
        }
      },
      "outputs": [],
      "source": [
        "# Create the HANA dataframe (df), apply a fiter and output the data\n",
        "df = conn.table(\"PERSON\", schema=\"CDMPHI\").filter('YEAR_OF_BIRTH > 2000').select('PERSON_ID','YEAR_OF_BIRTH')\n",
        "hana_df = df.collect()\n",
        "print(hana_df)"
      ]
    }
  ],
  "metadata": {
    "kernel_info": {
      "name": "azureml_py38_pytorch"
    },
    "kernelspec": {
      "display_name": "Python 3",
      "language": "python",
      "name": "python3"
    },
    "language_info": {
      "codemirror_mode": {
        "name": "ipython",
        "version": 3
      },
      "file_extension": ".py",
      "mimetype": "text/x-python",
      "name": "python",
      "nbconvert_exporter": "python",
      "pygments_lexer": "ipython3",
      "version": "3.8.9 (default, Apr 13 2022, 08:48:06) \n[Clang 13.1.6 (clang-1316.0.21.2.5)]"
    },
    "microsoft": {
      "host": {
        "AzureML": {
          "notebookHasBeenCompleted": true
        }
      }
    },
    "nteract": {
      "version": "nteract-front-end@1.0.0"
    },
    "vscode": {
      "interpreter": {
        "hash": "31f2aee4e71d21fbe5cf8b01ff0e069b9275f58929596ceb00d14d90e3e16cd6"
      }
    }
  },
  "nbformat": 4,
  "nbformat_minor": 2
}
